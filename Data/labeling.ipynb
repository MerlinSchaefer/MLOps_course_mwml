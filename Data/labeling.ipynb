{
 "cells": [
  {
   "cell_type": "markdown",
   "metadata": {},
   "source": [
    "# Data Labeling\n",
    "\n",
    "Labeling (or annotation) is the process of identifying the inputs and outputs that are **worth modeling** (not just what could be modeled).\n",
    "\n",
    "- use objective as a guide to determine the necessary signals.\n",
    "- explore creating new signals (via combining features, collecting new data, etc.).\n",
    "- iteratively add more features to justify complexity and effort.\n",
    "\n",
    "> **Warning**\n",
    "> \n",
    "> Be careful not to include features that are not present during prediction.\n"
   ]
  },
  {
   "cell_type": "markdown",
   "metadata": {},
   "source": [
    "This is also the phase to deepen the data and problem, process, constraints and domain understanding.\n",
    "\n",
    "Note down or determine:\n",
    "\n",
    "- augmentations and training split\n",
    "- enhancement with extra data\n",
    "- simplifications\n",
    "- removal of noisy samples\n",
    "- improvements for labeling\n"
   ]
  },
  {
   "cell_type": "markdown",
   "metadata": {},
   "source": [
    "## Process\n",
    "Regardless of whether we have a custom labeling platform or we choose a generalized platform, the process of labeling and all it's related workflows (QA, data import/export, etc.) follow a similar approach.\n",
    "\n",
    "### Preliminary steps\n",
    "\n",
    "[WHAT] Decide what needs to be labeled:\n",
    "\n",
    "- identify natural labels you may already have (ex. time-series)\n",
    "- consult with domain experts to ensure you're labeling the appropriate signals\n",
    "- decide on the appropriate labels (and hierarchy) for your task\n",
    "\n",
    "[WHERE] Design the labeling interface:\n",
    "\n",
    "- intuitive, data modality dependent and quick (keybindings are a must!)\n",
    "- avoid option paralysis by allowing the labeler to dig deeper or suggesting likely labels\n",
    "- measure and resolve inter-labeler discrepancy\n",
    "\n",
    "[HOW] Compose labeling instructions:\n",
    "\n",
    "- examples of each labeling scenario\n",
    "- course of action for discrepancies\n",
    "\n",
    "\n",
    "### Workflow setup\n",
    "\n",
    "Establish data pipelines:\n",
    "\n",
    "- [IMPORT] new data for annotation\n",
    "- [EXPORT] annotated data for QA, testing, modeling, etc.\n",
    "\n",
    "Create a quality assurance (QA) workflow:\n",
    "\n",
    "- separate from labeling workflow (no bias)\n",
    "- communicates with labeling workflow to escalate errors\n",
    "\n",
    "### Iterative setup\n",
    "\n",
    "Implement strategies to reduce labeling efforts\n",
    "\n",
    "- identify subsets of the data to label next using active learning\n",
    "- auto-label entire or parts of a dataset using weak supervision\n",
    "- focus labeling efforts on long tail of edge cases over time"
   ]
  },
  {
   "cell_type": "markdown",
   "metadata": {},
   "source": [
    "## Labeled data\n",
    "\n",
    "For the purpose of this course, our data is already labeled, so we'll perform a basic version of ELT (extract, load, transform) to construct the labeled dataset.\n",
    "\n",
    "- [projects.csv](./datasets/projects.csv): projects with id, created time, title and description.\n",
    "- [tags.csv](./datasets/tags.csv): labels (tag category) for the projects by id.\n",
    "\n",
    "Recall that our objective was to classify incoming content so that the community can discover them easily. These data assets will act as the training data for our first model."
   ]
  },
  {
   "cell_type": "markdown",
   "metadata": {},
   "source": [
    "## Extract\n"
   ]
  },
  {
   "cell_type": "code",
   "execution_count": 1,
   "metadata": {},
   "outputs": [],
   "source": [
    "import pandas as pd"
   ]
  },
  {
   "cell_type": "code",
   "execution_count": 2,
   "metadata": {},
   "outputs": [
    {
     "data": {
      "text/html": [
       "<div>\n",
       "<style scoped>\n",
       "    .dataframe tbody tr th:only-of-type {\n",
       "        vertical-align: middle;\n",
       "    }\n",
       "\n",
       "    .dataframe tbody tr th {\n",
       "        vertical-align: top;\n",
       "    }\n",
       "\n",
       "    .dataframe thead th {\n",
       "        text-align: right;\n",
       "    }\n",
       "</style>\n",
       "<table border=\"1\" class=\"dataframe\">\n",
       "  <thead>\n",
       "    <tr style=\"text-align: right;\">\n",
       "      <th></th>\n",
       "      <th>id</th>\n",
       "      <th>created_on</th>\n",
       "      <th>title</th>\n",
       "      <th>description</th>\n",
       "    </tr>\n",
       "  </thead>\n",
       "  <tbody>\n",
       "    <tr>\n",
       "      <th>0</th>\n",
       "      <td>6</td>\n",
       "      <td>2020-02-20 06:43:18</td>\n",
       "      <td>Comparison between YOLO and RCNN on real world...</td>\n",
       "      <td>Bringing theory to experiment is cool. We can ...</td>\n",
       "    </tr>\n",
       "    <tr>\n",
       "      <th>1</th>\n",
       "      <td>7</td>\n",
       "      <td>2020-02-20 06:47:21</td>\n",
       "      <td>Show, Infer &amp; Tell: Contextual Inference for C...</td>\n",
       "      <td>The beauty of the work lies in the way it arch...</td>\n",
       "    </tr>\n",
       "    <tr>\n",
       "      <th>2</th>\n",
       "      <td>9</td>\n",
       "      <td>2020-02-24 16:24:45</td>\n",
       "      <td>Awesome Graph Classification</td>\n",
       "      <td>A collection of important graph embedding, cla...</td>\n",
       "    </tr>\n",
       "    <tr>\n",
       "      <th>3</th>\n",
       "      <td>15</td>\n",
       "      <td>2020-02-28 23:55:26</td>\n",
       "      <td>Awesome Monte Carlo Tree Search</td>\n",
       "      <td>A curated list of Monte Carlo tree search pape...</td>\n",
       "    </tr>\n",
       "    <tr>\n",
       "      <th>4</th>\n",
       "      <td>19</td>\n",
       "      <td>2020-03-03 13:54:31</td>\n",
       "      <td>Diffusion to Vector</td>\n",
       "      <td>Reference implementation of Diffusion2Vec (Com...</td>\n",
       "    </tr>\n",
       "    <tr>\n",
       "      <th>5</th>\n",
       "      <td>25</td>\n",
       "      <td>2020-03-07 23:04:31</td>\n",
       "      <td>AttentionWalk</td>\n",
       "      <td>A PyTorch Implementation of \"Watch Your Step: ...</td>\n",
       "    </tr>\n",
       "    <tr>\n",
       "      <th>6</th>\n",
       "      <td>26</td>\n",
       "      <td>2020-03-07 23:11:58</td>\n",
       "      <td>Graph Wavelet Neural Network</td>\n",
       "      <td>A PyTorch implementation of \"Graph Wavelet Neu...</td>\n",
       "    </tr>\n",
       "    <tr>\n",
       "      <th>7</th>\n",
       "      <td>27</td>\n",
       "      <td>2020-03-07 23:18:15</td>\n",
       "      <td>APPNP and PPNP</td>\n",
       "      <td>A PyTorch implementation of \"Predict then Prop...</td>\n",
       "    </tr>\n",
       "    <tr>\n",
       "      <th>8</th>\n",
       "      <td>28</td>\n",
       "      <td>2020-03-07 23:23:46</td>\n",
       "      <td>Attributed Social Network Embedding</td>\n",
       "      <td>A sparsity aware and memory efficient implemen...</td>\n",
       "    </tr>\n",
       "    <tr>\n",
       "      <th>9</th>\n",
       "      <td>29</td>\n",
       "      <td>2020-03-07 23:45:38</td>\n",
       "      <td>Signed Graph Convolutional Network</td>\n",
       "      <td>A PyTorch implementation of \"Signed Graph Conv...</td>\n",
       "    </tr>\n",
       "  </tbody>\n",
       "</table>\n",
       "</div>"
      ],
      "text/plain": [
       "   id           created_on                                              title  \\\n",
       "0   6  2020-02-20 06:43:18  Comparison between YOLO and RCNN on real world...   \n",
       "1   7  2020-02-20 06:47:21  Show, Infer & Tell: Contextual Inference for C...   \n",
       "2   9  2020-02-24 16:24:45                       Awesome Graph Classification   \n",
       "3  15  2020-02-28 23:55:26                    Awesome Monte Carlo Tree Search   \n",
       "4  19  2020-03-03 13:54:31                                Diffusion to Vector   \n",
       "5  25  2020-03-07 23:04:31                                      AttentionWalk   \n",
       "6  26  2020-03-07 23:11:58                       Graph Wavelet Neural Network   \n",
       "7  27  2020-03-07 23:18:15                                     APPNP and PPNP   \n",
       "8  28  2020-03-07 23:23:46                Attributed Social Network Embedding   \n",
       "9  29  2020-03-07 23:45:38                 Signed Graph Convolutional Network   \n",
       "\n",
       "                                         description  \n",
       "0  Bringing theory to experiment is cool. We can ...  \n",
       "1  The beauty of the work lies in the way it arch...  \n",
       "2  A collection of important graph embedding, cla...  \n",
       "3  A curated list of Monte Carlo tree search pape...  \n",
       "4  Reference implementation of Diffusion2Vec (Com...  \n",
       "5  A PyTorch Implementation of \"Watch Your Step: ...  \n",
       "6  A PyTorch implementation of \"Graph Wavelet Neu...  \n",
       "7  A PyTorch implementation of \"Predict then Prop...  \n",
       "8  A sparsity aware and memory efficient implemen...  \n",
       "9  A PyTorch implementation of \"Signed Graph Conv...  "
      ]
     },
     "execution_count": 2,
     "metadata": {},
     "output_type": "execute_result"
    }
   ],
   "source": [
    "# Extract data\n",
    "PROJECTS_URL = \"https://raw.githubusercontent.com/GokuMohandas/Made-With-ML/main/datasets/projects.csv\"\n",
    "TAGS_URL = \"https://raw.githubusercontent.com/GokuMohandas/Made-With-ML/main/datasets/tags.csv\"\n",
    "\n",
    "projects = pd.read_csv(PROJECTS_URL)\n",
    "tags = pd.read_csv(TAGS_URL)\n",
    "projects.head(10)"
   ]
  },
  {
   "cell_type": "code",
   "execution_count": 3,
   "metadata": {},
   "outputs": [
    {
     "data": {
      "text/html": [
       "<div>\n",
       "<style scoped>\n",
       "    .dataframe tbody tr th:only-of-type {\n",
       "        vertical-align: middle;\n",
       "    }\n",
       "\n",
       "    .dataframe tbody tr th {\n",
       "        vertical-align: top;\n",
       "    }\n",
       "\n",
       "    .dataframe thead th {\n",
       "        text-align: right;\n",
       "    }\n",
       "</style>\n",
       "<table border=\"1\" class=\"dataframe\">\n",
       "  <thead>\n",
       "    <tr style=\"text-align: right;\">\n",
       "      <th></th>\n",
       "      <th>id</th>\n",
       "      <th>tag</th>\n",
       "    </tr>\n",
       "  </thead>\n",
       "  <tbody>\n",
       "    <tr>\n",
       "      <th>0</th>\n",
       "      <td>6</td>\n",
       "      <td>computer-vision</td>\n",
       "    </tr>\n",
       "    <tr>\n",
       "      <th>1</th>\n",
       "      <td>7</td>\n",
       "      <td>computer-vision</td>\n",
       "    </tr>\n",
       "    <tr>\n",
       "      <th>2</th>\n",
       "      <td>9</td>\n",
       "      <td>graph-learning</td>\n",
       "    </tr>\n",
       "    <tr>\n",
       "      <th>3</th>\n",
       "      <td>15</td>\n",
       "      <td>reinforcement-learning</td>\n",
       "    </tr>\n",
       "    <tr>\n",
       "      <th>4</th>\n",
       "      <td>19</td>\n",
       "      <td>graph-learning</td>\n",
       "    </tr>\n",
       "    <tr>\n",
       "      <th>5</th>\n",
       "      <td>25</td>\n",
       "      <td>graph-learning</td>\n",
       "    </tr>\n",
       "    <tr>\n",
       "      <th>6</th>\n",
       "      <td>26</td>\n",
       "      <td>graph-learning</td>\n",
       "    </tr>\n",
       "    <tr>\n",
       "      <th>7</th>\n",
       "      <td>27</td>\n",
       "      <td>graph-learning</td>\n",
       "    </tr>\n",
       "    <tr>\n",
       "      <th>8</th>\n",
       "      <td>28</td>\n",
       "      <td>graph-learning</td>\n",
       "    </tr>\n",
       "    <tr>\n",
       "      <th>9</th>\n",
       "      <td>29</td>\n",
       "      <td>graph-learning</td>\n",
       "    </tr>\n",
       "  </tbody>\n",
       "</table>\n",
       "</div>"
      ],
      "text/plain": [
       "   id                     tag\n",
       "0   6         computer-vision\n",
       "1   7         computer-vision\n",
       "2   9          graph-learning\n",
       "3  15  reinforcement-learning\n",
       "4  19          graph-learning\n",
       "5  25          graph-learning\n",
       "6  26          graph-learning\n",
       "7  27          graph-learning\n",
       "8  28          graph-learning\n",
       "9  29          graph-learning"
      ]
     },
     "execution_count": 3,
     "metadata": {},
     "output_type": "execute_result"
    }
   ],
   "source": [
    "tags.head(10)"
   ]
  },
  {
   "cell_type": "markdown",
   "metadata": {},
   "source": [
    "## Transform"
   ]
  },
  {
   "cell_type": "code",
   "execution_count": 4,
   "metadata": {},
   "outputs": [
    {
     "data": {
      "text/html": [
       "<div>\n",
       "<style scoped>\n",
       "    .dataframe tbody tr th:only-of-type {\n",
       "        vertical-align: middle;\n",
       "    }\n",
       "\n",
       "    .dataframe tbody tr th {\n",
       "        vertical-align: top;\n",
       "    }\n",
       "\n",
       "    .dataframe thead th {\n",
       "        text-align: right;\n",
       "    }\n",
       "</style>\n",
       "<table border=\"1\" class=\"dataframe\">\n",
       "  <thead>\n",
       "    <tr style=\"text-align: right;\">\n",
       "      <th></th>\n",
       "      <th>id</th>\n",
       "      <th>created_on</th>\n",
       "      <th>title</th>\n",
       "      <th>description</th>\n",
       "      <th>tag</th>\n",
       "    </tr>\n",
       "  </thead>\n",
       "  <tbody>\n",
       "    <tr>\n",
       "      <th>0</th>\n",
       "      <td>6</td>\n",
       "      <td>2020-02-20 06:43:18</td>\n",
       "      <td>Comparison between YOLO and RCNN on real world...</td>\n",
       "      <td>Bringing theory to experiment is cool. We can ...</td>\n",
       "      <td>computer-vision</td>\n",
       "    </tr>\n",
       "    <tr>\n",
       "      <th>1</th>\n",
       "      <td>7</td>\n",
       "      <td>2020-02-20 06:47:21</td>\n",
       "      <td>Show, Infer &amp; Tell: Contextual Inference for C...</td>\n",
       "      <td>The beauty of the work lies in the way it arch...</td>\n",
       "      <td>computer-vision</td>\n",
       "    </tr>\n",
       "    <tr>\n",
       "      <th>2</th>\n",
       "      <td>9</td>\n",
       "      <td>2020-02-24 16:24:45</td>\n",
       "      <td>Awesome Graph Classification</td>\n",
       "      <td>A collection of important graph embedding, cla...</td>\n",
       "      <td>graph-learning</td>\n",
       "    </tr>\n",
       "    <tr>\n",
       "      <th>3</th>\n",
       "      <td>15</td>\n",
       "      <td>2020-02-28 23:55:26</td>\n",
       "      <td>Awesome Monte Carlo Tree Search</td>\n",
       "      <td>A curated list of Monte Carlo tree search pape...</td>\n",
       "      <td>reinforcement-learning</td>\n",
       "    </tr>\n",
       "    <tr>\n",
       "      <th>4</th>\n",
       "      <td>19</td>\n",
       "      <td>2020-03-03 13:54:31</td>\n",
       "      <td>Diffusion to Vector</td>\n",
       "      <td>Reference implementation of Diffusion2Vec (Com...</td>\n",
       "      <td>graph-learning</td>\n",
       "    </tr>\n",
       "  </tbody>\n",
       "</table>\n",
       "</div>"
      ],
      "text/plain": [
       "   id           created_on                                              title  \\\n",
       "0   6  2020-02-20 06:43:18  Comparison between YOLO and RCNN on real world...   \n",
       "1   7  2020-02-20 06:47:21  Show, Infer & Tell: Contextual Inference for C...   \n",
       "2   9  2020-02-24 16:24:45                       Awesome Graph Classification   \n",
       "3  15  2020-02-28 23:55:26                    Awesome Monte Carlo Tree Search   \n",
       "4  19  2020-03-03 13:54:31                                Diffusion to Vector   \n",
       "\n",
       "                                         description                     tag  \n",
       "0  Bringing theory to experiment is cool. We can ...         computer-vision  \n",
       "1  The beauty of the work lies in the way it arch...         computer-vision  \n",
       "2  A collection of important graph embedding, cla...          graph-learning  \n",
       "3  A curated list of Monte Carlo tree search pape...  reinforcement-learning  \n",
       "4  Reference implementation of Diffusion2Vec (Com...          graph-learning  "
      ]
     },
     "execution_count": 4,
     "metadata": {},
     "output_type": "execute_result"
    }
   ],
   "source": [
    "df = pd.merge(projects,tags, on = \"id\")\n",
    "df.head()"
   ]
  },
  {
   "cell_type": "code",
   "execution_count": 15,
   "metadata": {},
   "outputs": [
    {
     "name": "stdout",
     "output_type": "stream",
     "text": [
      "<class 'pandas.core.frame.DataFrame'>\n",
      "Int64Index: 955 entries, 0 to 954\n",
      "Data columns (total 5 columns):\n",
      " #   Column       Non-Null Count  Dtype \n",
      "---  ------       --------------  ----- \n",
      " 0   id           955 non-null    int64 \n",
      " 1   created_on   955 non-null    object\n",
      " 2   title        955 non-null    object\n",
      " 3   description  955 non-null    object\n",
      " 4   tag          955 non-null    object\n",
      "dtypes: int64(1), object(4)\n",
      "memory usage: 44.8+ KB\n"
     ]
    }
   ],
   "source": [
    "df.info()"
   ]
  },
  {
   "cell_type": "code",
   "execution_count": 14,
   "metadata": {},
   "outputs": [
    {
     "name": "stdout",
     "output_type": "stream",
     "text": [
      "Removing 0 entries with null in 'tag'\n"
     ]
    }
   ],
   "source": [
    "\n",
    "print(f\"Removing {df[df['tag'].isnull()].shape[0]} entries with null in 'tag'\")\n",
    "df = df[df[\"tag\"].notnull()]"
   ]
  },
  {
   "cell_type": "markdown",
   "metadata": {},
   "source": [
    "## Load"
   ]
  },
  {
   "cell_type": "code",
   "execution_count": 16,
   "metadata": {},
   "outputs": [],
   "source": [
    "df.to_csv(\"./datasets/labeled_projects.csv\", index = False)"
   ]
  },
  {
   "cell_type": "markdown",
   "metadata": {},
   "source": [
    "## Libraries\n",
    "\n",
    "We could have used the user provided tags as our labels but what if the user added a wrong tag or forgot to add a relevant one. To remove this dependency on the user to provide the gold standard labels, we can leverage labeling tools and platforms. These tools allow for quick and organized labeling of the dataset to ensure its quality. And instead of starting from scratch and asking our labeler to provide all the relevant tags for a given project, we can provide the author's original tags and ask the labeler to add / remove as necessary. The specific labeling tool may be something that needs to be custom built or leverages something from the ecosystem.\n",
    "\n",
    "See [here](https://madewithml.com/courses/mlops/labeling/) for more information about different libraries and tools for labeling."
   ]
  },
  {
   "cell_type": "markdown",
   "metadata": {},
   "source": [
    "## Iteration\n",
    "\n",
    "Labeling isn't just a one time event or something we repeat identically. As new data is available, we'll want to strategically label the appropriate samples and improve slices of our data that are lacking in quality. Once new data is labeled, we can have workflows that are triggered to start the (re)training process to deploy a new version of our system."
   ]
  }
 ],
 "metadata": {
  "kernelspec": {
   "display_name": "MLOps_course",
   "language": "python",
   "name": "python3"
  },
  "language_info": {
   "codemirror_mode": {
    "name": "ipython",
    "version": 3
   },
   "file_extension": ".py",
   "mimetype": "text/x-python",
   "name": "python",
   "nbconvert_exporter": "python",
   "pygments_lexer": "ipython3",
   "version": "3.7.13 (default, Oct 19 2022, 10:19:43) [MSC v.1916 64 bit (AMD64)]"
  },
  "orig_nbformat": 4,
  "vscode": {
   "interpreter": {
    "hash": "c72d009c9b04583bb32a27dc9c5f244a5ebf6a8a20df99339bf7c5a37744e86e"
   }
  }
 },
 "nbformat": 4,
 "nbformat_minor": 2
}
